{
 "cells": [
  {
   "cell_type": "code",
   "execution_count": 3,
   "id": "9a310e54-bf4c-4cc3-89b6-16923a42633f",
   "metadata": {},
   "outputs": [],
   "source": [
    "class Logger:\n",
    "    def __init__(self):\n",
    "        self.message_dict = {}\n",
    "        self.max_size = 100\n",
    "\n",
    "    def shouldPrintMessage(self, timestamp, message):\n",
    "        if message in self.message_dict:\n",
    "            if timestamp < self.message_dict[message]:\n",
    "                return False\n",
    "        self.message_dict[message] = timestamp + 10\n",
    "        if len(self.message_dict) > self.max_size:\n",
    "            self._clean_old_messages(timestamp)\n",
    "        return True\n",
    "\n",
    "    def clean(self, timestamp):\n",
    "        if timestamp not in self.message_dict.values():\n",
    "            self.message_dict = {k: v for k, v in self.message_dict.items() if v > timestamp}\n",
    "            return True\n",
    "        return False\n",
    "\n",
    "    def loggerSize(self):\n",
    "        return len(self.message_dict)\n",
    "\n",
    "    def _clean_old_messages(self, current_timestamp):\n",
    "        to_delete = [msg for msg, ts in self.message_dict.items() if ts <= current_timestamp]\n",
    "        for msg in to_delete:\n",
    "            del self.message_dict[msg]"
   ]
  },
  {
   "cell_type": "code",
   "execution_count": 5,
   "id": "8009d435-678f-4827-8244-8b250099da8d",
   "metadata": {},
   "outputs": [
    {
     "name": "stdout",
     "output_type": "stream",
     "text": [
      "True\n",
      "True\n",
      "False\n",
      "False\n",
      "False\n",
      "True\n",
      "2\n",
      "True\n",
      "False\n"
     ]
    }
   ],
   "source": [
    "logger = Logger()\n",
    "\n",
    "print(logger.shouldPrintMessage(1, \"foo\")) \n",
    "print(logger.shouldPrintMessage(2, \"bar\")) \n",
    "print(logger.shouldPrintMessage(3, \"foo\")) \n",
    "print(logger.shouldPrintMessage(8, \"bar\")) \n",
    "print(logger.shouldPrintMessage(10, \"foo\"))\n",
    "print(logger.shouldPrintMessage(11, \"foo\")) \n",
    "\n",
    "print(logger.loggerSize())  \n",
    "print(logger.clean(11))     \n",
    "print(logger.clean(12))     \n"
   ]
  },
  {
   "cell_type": "code",
   "execution_count": null,
   "id": "0f8beb06-eae0-4eaa-ae9e-b197a2c19ca2",
   "metadata": {},
   "outputs": [],
   "source": []
  }
 ],
 "metadata": {
  "kernelspec": {
   "display_name": "Python 3 (ipykernel)",
   "language": "python",
   "name": "python3"
  },
  "language_info": {
   "codemirror_mode": {
    "name": "ipython",
    "version": 3
   },
   "file_extension": ".py",
   "mimetype": "text/x-python",
   "name": "python",
   "nbconvert_exporter": "python",
   "pygments_lexer": "ipython3",
   "version": "3.11.5"
  }
 },
 "nbformat": 4,
 "nbformat_minor": 5
}
